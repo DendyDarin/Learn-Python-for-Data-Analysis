{
 "cells": [
  {
   "cell_type": "code",
   "execution_count": 1,
   "id": "e7b59b6c",
   "metadata": {},
   "outputs": [],
   "source": [
    "import numpy as np\n",
    "import pandas as pd\n",
    "from pandas import Series, DataFrame"
   ]
  },
  {
   "cell_type": "code",
   "execution_count": 2,
   "id": "e11e8ded",
   "metadata": {},
   "outputs": [],
   "source": [
    "obj = pd.Series([9, 2 ,-7, 1])"
   ]
  },
  {
   "cell_type": "code",
   "execution_count": 3,
   "id": "639d38d3",
   "metadata": {},
   "outputs": [
    {
     "data": {
      "text/plain": [
       "0    9\n",
       "1    2\n",
       "2   -7\n",
       "3    1\n",
       "dtype: int64"
      ]
     },
     "execution_count": 3,
     "metadata": {},
     "output_type": "execute_result"
    }
   ],
   "source": [
    "obj"
   ]
  },
  {
   "cell_type": "code",
   "execution_count": 4,
   "id": "44cc5eed",
   "metadata": {},
   "outputs": [
    {
     "data": {
      "text/plain": [
       "array([ 9,  2, -7,  1], dtype=int64)"
      ]
     },
     "execution_count": 4,
     "metadata": {},
     "output_type": "execute_result"
    }
   ],
   "source": [
    "obj.values"
   ]
  },
  {
   "cell_type": "code",
   "execution_count": 5,
   "id": "fafd0acf",
   "metadata": {},
   "outputs": [
    {
     "data": {
      "text/plain": [
       "RangeIndex(start=0, stop=4, step=1)"
      ]
     },
     "execution_count": 5,
     "metadata": {},
     "output_type": "execute_result"
    }
   ],
   "source": [
    "obj.index"
   ]
  },
  {
   "cell_type": "code",
   "execution_count": 6,
   "id": "a07e89f7",
   "metadata": {},
   "outputs": [],
   "source": [
    "obj2 = pd.Series([9,2,3,2], index=['a','b','c','d'])"
   ]
  },
  {
   "cell_type": "code",
   "execution_count": 7,
   "id": "89341431",
   "metadata": {},
   "outputs": [
    {
     "data": {
      "text/plain": [
       "a    9\n",
       "b    2\n",
       "c    3\n",
       "d    2\n",
       "dtype: int64"
      ]
     },
     "execution_count": 7,
     "metadata": {},
     "output_type": "execute_result"
    }
   ],
   "source": [
    "obj2"
   ]
  },
  {
   "cell_type": "code",
   "execution_count": 8,
   "id": "0a1ca650",
   "metadata": {},
   "outputs": [
    {
     "data": {
      "text/plain": [
       "Index(['a', 'b', 'c', 'd'], dtype='object')"
      ]
     },
     "execution_count": 8,
     "metadata": {},
     "output_type": "execute_result"
    }
   ],
   "source": [
    "obj2.index"
   ]
  },
  {
   "cell_type": "code",
   "execution_count": 9,
   "id": "fb0729bc",
   "metadata": {},
   "outputs": [
    {
     "data": {
      "text/plain": [
       "3"
      ]
     },
     "execution_count": 9,
     "metadata": {},
     "output_type": "execute_result"
    }
   ],
   "source": [
    "obj2['c']"
   ]
  },
  {
   "cell_type": "code",
   "execution_count": 10,
   "id": "c23f6e86",
   "metadata": {},
   "outputs": [],
   "source": [
    "obj2['a'] = 100"
   ]
  },
  {
   "cell_type": "code",
   "execution_count": 11,
   "id": "92eb2fda",
   "metadata": {},
   "outputs": [
    {
     "data": {
      "text/plain": [
       "a    100\n",
       "b      2\n",
       "c      3\n",
       "d      2\n",
       "dtype: int64"
      ]
     },
     "execution_count": 11,
     "metadata": {},
     "output_type": "execute_result"
    }
   ],
   "source": [
    "obj2"
   ]
  },
  {
   "cell_type": "code",
   "execution_count": 12,
   "id": "5fa3acaf",
   "metadata": {},
   "outputs": [
    {
     "data": {
      "text/plain": [
       "b    2\n",
       "d    2\n",
       "dtype: int64"
      ]
     },
     "execution_count": 12,
     "metadata": {},
     "output_type": "execute_result"
    }
   ],
   "source": [
    "obj2[['b','d']]"
   ]
  },
  {
   "cell_type": "code",
   "execution_count": 13,
   "id": "07048a55",
   "metadata": {},
   "outputs": [
    {
     "data": {
      "text/plain": [
       "a    100\n",
       "dtype: int64"
      ]
     },
     "execution_count": 13,
     "metadata": {},
     "output_type": "execute_result"
    }
   ],
   "source": [
    "obj2[obj2 > 5]"
   ]
  },
  {
   "cell_type": "code",
   "execution_count": 14,
   "id": "0480606d",
   "metadata": {},
   "outputs": [
    {
     "data": {
      "text/plain": [
       "a    200\n",
       "b      4\n",
       "c      6\n",
       "d      4\n",
       "dtype: int64"
      ]
     },
     "execution_count": 14,
     "metadata": {},
     "output_type": "execute_result"
    }
   ],
   "source": [
    "obj2 * 2"
   ]
  },
  {
   "cell_type": "code",
   "execution_count": 15,
   "id": "7988f316",
   "metadata": {},
   "outputs": [
    {
     "data": {
      "text/plain": [
       "a    2.688117e+43\n",
       "b    7.389056e+00\n",
       "c    2.008554e+01\n",
       "d    7.389056e+00\n",
       "dtype: float64"
      ]
     },
     "execution_count": 15,
     "metadata": {},
     "output_type": "execute_result"
    }
   ],
   "source": [
    "np.exp(obj2)"
   ]
  },
  {
   "cell_type": "code",
   "execution_count": 16,
   "id": "a3677abb",
   "metadata": {},
   "outputs": [
    {
     "data": {
      "text/plain": [
       "True"
      ]
     },
     "execution_count": 16,
     "metadata": {},
     "output_type": "execute_result"
    }
   ],
   "source": [
    "'b' in obj2"
   ]
  },
  {
   "cell_type": "code",
   "execution_count": 17,
   "id": "82227f37",
   "metadata": {},
   "outputs": [
    {
     "data": {
      "text/plain": [
       "False"
      ]
     },
     "execution_count": 17,
     "metadata": {},
     "output_type": "execute_result"
    }
   ],
   "source": [
    "'s' in obj2"
   ]
  },
  {
   "cell_type": "code",
   "execution_count": 18,
   "id": "be75e34f",
   "metadata": {},
   "outputs": [
    {
     "data": {
      "text/plain": [
       "Solo       12000\n",
       "Cirebon     9000\n",
       "Jakarta    14000\n",
       "Bandung     5000\n",
       "dtype: int64"
      ]
     },
     "execution_count": 18,
     "metadata": {},
     "output_type": "execute_result"
    }
   ],
   "source": [
    "sdata = {'Solo':12000,'Cirebon':9000,'Jakarta':14000,'Bandung':5000}\n",
    "obj3 = pd.Series(sdata)\n",
    "obj3"
   ]
  },
  {
   "cell_type": "code",
   "execution_count": 19,
   "id": "03179020",
   "metadata": {},
   "outputs": [
    {
     "data": {
      "text/plain": [
       "Jabar          NaN\n",
       "Cirebon     9000.0\n",
       "Jakarta    14000.0\n",
       "Bandung     5000.0\n",
       "dtype: float64"
      ]
     },
     "execution_count": 19,
     "metadata": {},
     "output_type": "execute_result"
    }
   ],
   "source": [
    "states = ['Jabar','Cirebon','Jakarta','Bandung']\n",
    "obj4 = pd.Series(sdata, index=states)\n",
    "obj4"
   ]
  },
  {
   "cell_type": "code",
   "execution_count": 20,
   "id": "98286daa",
   "metadata": {},
   "outputs": [
    {
     "data": {
      "text/plain": [
       "Jabar       True\n",
       "Cirebon    False\n",
       "Jakarta    False\n",
       "Bandung    False\n",
       "dtype: bool"
      ]
     },
     "execution_count": 20,
     "metadata": {},
     "output_type": "execute_result"
    }
   ],
   "source": [
    "pd.isnull(obj4)"
   ]
  },
  {
   "cell_type": "code",
   "execution_count": 21,
   "id": "762794dd",
   "metadata": {},
   "outputs": [
    {
     "data": {
      "text/plain": [
       "Jabar       True\n",
       "Cirebon    False\n",
       "Jakarta    False\n",
       "Bandung    False\n",
       "dtype: bool"
      ]
     },
     "execution_count": 21,
     "metadata": {},
     "output_type": "execute_result"
    }
   ],
   "source": [
    "obj4.isnull()"
   ]
  },
  {
   "cell_type": "code",
   "execution_count": 22,
   "id": "25eb0450",
   "metadata": {},
   "outputs": [
    {
     "data": {
      "text/plain": [
       "Solo       12000\n",
       "Cirebon     9000\n",
       "Jakarta    14000\n",
       "Bandung     5000\n",
       "dtype: int64"
      ]
     },
     "execution_count": 22,
     "metadata": {},
     "output_type": "execute_result"
    }
   ],
   "source": [
    "obj3"
   ]
  },
  {
   "cell_type": "code",
   "execution_count": 23,
   "id": "abddaf0b",
   "metadata": {},
   "outputs": [
    {
     "data": {
      "text/plain": [
       "Bandung    10000.0\n",
       "Cirebon    18000.0\n",
       "Jabar          NaN\n",
       "Jakarta    28000.0\n",
       "Solo           NaN\n",
       "dtype: float64"
      ]
     },
     "execution_count": 23,
     "metadata": {},
     "output_type": "execute_result"
    }
   ],
   "source": [
    "obj3 + obj4"
   ]
  },
  {
   "cell_type": "code",
   "execution_count": 24,
   "id": "71180a99",
   "metadata": {},
   "outputs": [
    {
     "data": {
      "text/plain": [
       "propinsi\n",
       "Jabar          NaN\n",
       "Cirebon     9000.0\n",
       "Jakarta    14000.0\n",
       "Bandung     5000.0\n",
       "Name: populasi, dtype: float64"
      ]
     },
     "execution_count": 24,
     "metadata": {},
     "output_type": "execute_result"
    }
   ],
   "source": [
    "obj4.name = 'populasi'\n",
    "obj4.index.name = 'propinsi'\n",
    "obj4"
   ]
  },
  {
   "cell_type": "code",
   "execution_count": 25,
   "id": "b9bfae26",
   "metadata": {},
   "outputs": [
    {
     "data": {
      "text/plain": [
       "0    9\n",
       "1    2\n",
       "2   -7\n",
       "3    1\n",
       "dtype: int64"
      ]
     },
     "execution_count": 25,
     "metadata": {},
     "output_type": "execute_result"
    }
   ],
   "source": [
    "obj"
   ]
  },
  {
   "cell_type": "code",
   "execution_count": 26,
   "id": "b3405084",
   "metadata": {},
   "outputs": [
    {
     "data": {
      "text/plain": [
       "Den     9\n",
       "Ndah    2\n",
       "Anza   -7\n",
       "Yun     1\n",
       "dtype: int64"
      ]
     },
     "execution_count": 26,
     "metadata": {},
     "output_type": "execute_result"
    }
   ],
   "source": [
    "obj.index = ['Den','Ndah','Anza','Yun']\n",
    "obj"
   ]
  },
  {
   "cell_type": "code",
   "execution_count": 27,
   "id": "6dc0915f",
   "metadata": {},
   "outputs": [],
   "source": [
    "data = {'propinsi' : ['Jabar', 'Jabar', 'Jabar', 'Jatim', 'Jatim', 'Jatim'],\n",
    "       'tahun' : [2000, 2001, 2002, 2001, 2002, 2003],\n",
    "       'populasi' : [1.5, 1.7, 3.6, 2.4, 2.9, 3.2]}"
   ]
  },
  {
   "cell_type": "code",
   "execution_count": 28,
   "id": "99e5c85f",
   "metadata": {},
   "outputs": [
    {
     "data": {
      "text/html": [
       "<div>\n",
       "<style scoped>\n",
       "    .dataframe tbody tr th:only-of-type {\n",
       "        vertical-align: middle;\n",
       "    }\n",
       "\n",
       "    .dataframe tbody tr th {\n",
       "        vertical-align: top;\n",
       "    }\n",
       "\n",
       "    .dataframe thead th {\n",
       "        text-align: right;\n",
       "    }\n",
       "</style>\n",
       "<table border=\"1\" class=\"dataframe\">\n",
       "  <thead>\n",
       "    <tr style=\"text-align: right;\">\n",
       "      <th></th>\n",
       "      <th>propinsi</th>\n",
       "      <th>tahun</th>\n",
       "      <th>populasi</th>\n",
       "    </tr>\n",
       "  </thead>\n",
       "  <tbody>\n",
       "    <tr>\n",
       "      <th>0</th>\n",
       "      <td>Jabar</td>\n",
       "      <td>2000</td>\n",
       "      <td>1.5</td>\n",
       "    </tr>\n",
       "    <tr>\n",
       "      <th>1</th>\n",
       "      <td>Jabar</td>\n",
       "      <td>2001</td>\n",
       "      <td>1.7</td>\n",
       "    </tr>\n",
       "    <tr>\n",
       "      <th>2</th>\n",
       "      <td>Jabar</td>\n",
       "      <td>2002</td>\n",
       "      <td>3.6</td>\n",
       "    </tr>\n",
       "    <tr>\n",
       "      <th>3</th>\n",
       "      <td>Jatim</td>\n",
       "      <td>2001</td>\n",
       "      <td>2.4</td>\n",
       "    </tr>\n",
       "    <tr>\n",
       "      <th>4</th>\n",
       "      <td>Jatim</td>\n",
       "      <td>2002</td>\n",
       "      <td>2.9</td>\n",
       "    </tr>\n",
       "    <tr>\n",
       "      <th>5</th>\n",
       "      <td>Jatim</td>\n",
       "      <td>2003</td>\n",
       "      <td>3.2</td>\n",
       "    </tr>\n",
       "  </tbody>\n",
       "</table>\n",
       "</div>"
      ],
      "text/plain": [
       "  propinsi  tahun  populasi\n",
       "0    Jabar   2000       1.5\n",
       "1    Jabar   2001       1.7\n",
       "2    Jabar   2002       3.6\n",
       "3    Jatim   2001       2.4\n",
       "4    Jatim   2002       2.9\n",
       "5    Jatim   2003       3.2"
      ]
     },
     "execution_count": 28,
     "metadata": {},
     "output_type": "execute_result"
    }
   ],
   "source": [
    "frame = pd.DataFrame(data)\n",
    "frame"
   ]
  },
  {
   "cell_type": "code",
   "execution_count": 29,
   "id": "73874935",
   "metadata": {},
   "outputs": [
    {
     "data": {
      "text/html": [
       "<div>\n",
       "<style scoped>\n",
       "    .dataframe tbody tr th:only-of-type {\n",
       "        vertical-align: middle;\n",
       "    }\n",
       "\n",
       "    .dataframe tbody tr th {\n",
       "        vertical-align: top;\n",
       "    }\n",
       "\n",
       "    .dataframe thead th {\n",
       "        text-align: right;\n",
       "    }\n",
       "</style>\n",
       "<table border=\"1\" class=\"dataframe\">\n",
       "  <thead>\n",
       "    <tr style=\"text-align: right;\">\n",
       "      <th></th>\n",
       "      <th>tahun</th>\n",
       "      <th>propinsi</th>\n",
       "      <th>populasi</th>\n",
       "    </tr>\n",
       "  </thead>\n",
       "  <tbody>\n",
       "    <tr>\n",
       "      <th>0</th>\n",
       "      <td>2000</td>\n",
       "      <td>Jabar</td>\n",
       "      <td>1.5</td>\n",
       "    </tr>\n",
       "    <tr>\n",
       "      <th>1</th>\n",
       "      <td>2001</td>\n",
       "      <td>Jabar</td>\n",
       "      <td>1.7</td>\n",
       "    </tr>\n",
       "    <tr>\n",
       "      <th>2</th>\n",
       "      <td>2002</td>\n",
       "      <td>Jabar</td>\n",
       "      <td>3.6</td>\n",
       "    </tr>\n",
       "    <tr>\n",
       "      <th>3</th>\n",
       "      <td>2001</td>\n",
       "      <td>Jatim</td>\n",
       "      <td>2.4</td>\n",
       "    </tr>\n",
       "    <tr>\n",
       "      <th>4</th>\n",
       "      <td>2002</td>\n",
       "      <td>Jatim</td>\n",
       "      <td>2.9</td>\n",
       "    </tr>\n",
       "    <tr>\n",
       "      <th>5</th>\n",
       "      <td>2003</td>\n",
       "      <td>Jatim</td>\n",
       "      <td>3.2</td>\n",
       "    </tr>\n",
       "  </tbody>\n",
       "</table>\n",
       "</div>"
      ],
      "text/plain": [
       "   tahun propinsi  populasi\n",
       "0   2000    Jabar       1.5\n",
       "1   2001    Jabar       1.7\n",
       "2   2002    Jabar       3.6\n",
       "3   2001    Jatim       2.4\n",
       "4   2002    Jatim       2.9\n",
       "5   2003    Jatim       3.2"
      ]
     },
     "execution_count": 29,
     "metadata": {},
     "output_type": "execute_result"
    }
   ],
   "source": [
    "# reorder column\n",
    "pd.DataFrame(data, columns=['tahun','propinsi','populasi'])"
   ]
  },
  {
   "cell_type": "code",
   "execution_count": 30,
   "id": "c76a552b",
   "metadata": {},
   "outputs": [],
   "source": [
    "frame2 = pd.DataFrame(data, columns=['tahun', 'propinsi', 'populasi', 'hutang'],\n",
    "                     index=['satu', 'dua', 'tiga', 'empat', 'lima', 'enam'])"
   ]
  },
  {
   "cell_type": "code",
   "execution_count": 31,
   "id": "bdf6602e",
   "metadata": {},
   "outputs": [
    {
     "data": {
      "text/html": [
       "<div>\n",
       "<style scoped>\n",
       "    .dataframe tbody tr th:only-of-type {\n",
       "        vertical-align: middle;\n",
       "    }\n",
       "\n",
       "    .dataframe tbody tr th {\n",
       "        vertical-align: top;\n",
       "    }\n",
       "\n",
       "    .dataframe thead th {\n",
       "        text-align: right;\n",
       "    }\n",
       "</style>\n",
       "<table border=\"1\" class=\"dataframe\">\n",
       "  <thead>\n",
       "    <tr style=\"text-align: right;\">\n",
       "      <th></th>\n",
       "      <th>tahun</th>\n",
       "      <th>propinsi</th>\n",
       "      <th>populasi</th>\n",
       "      <th>hutang</th>\n",
       "    </tr>\n",
       "  </thead>\n",
       "  <tbody>\n",
       "    <tr>\n",
       "      <th>satu</th>\n",
       "      <td>2000</td>\n",
       "      <td>Jabar</td>\n",
       "      <td>1.5</td>\n",
       "      <td>NaN</td>\n",
       "    </tr>\n",
       "    <tr>\n",
       "      <th>dua</th>\n",
       "      <td>2001</td>\n",
       "      <td>Jabar</td>\n",
       "      <td>1.7</td>\n",
       "      <td>NaN</td>\n",
       "    </tr>\n",
       "    <tr>\n",
       "      <th>tiga</th>\n",
       "      <td>2002</td>\n",
       "      <td>Jabar</td>\n",
       "      <td>3.6</td>\n",
       "      <td>NaN</td>\n",
       "    </tr>\n",
       "    <tr>\n",
       "      <th>empat</th>\n",
       "      <td>2001</td>\n",
       "      <td>Jatim</td>\n",
       "      <td>2.4</td>\n",
       "      <td>NaN</td>\n",
       "    </tr>\n",
       "    <tr>\n",
       "      <th>lima</th>\n",
       "      <td>2002</td>\n",
       "      <td>Jatim</td>\n",
       "      <td>2.9</td>\n",
       "      <td>NaN</td>\n",
       "    </tr>\n",
       "    <tr>\n",
       "      <th>enam</th>\n",
       "      <td>2003</td>\n",
       "      <td>Jatim</td>\n",
       "      <td>3.2</td>\n",
       "      <td>NaN</td>\n",
       "    </tr>\n",
       "  </tbody>\n",
       "</table>\n",
       "</div>"
      ],
      "text/plain": [
       "       tahun propinsi  populasi hutang\n",
       "satu    2000    Jabar       1.5    NaN\n",
       "dua     2001    Jabar       1.7    NaN\n",
       "tiga    2002    Jabar       3.6    NaN\n",
       "empat   2001    Jatim       2.4    NaN\n",
       "lima    2002    Jatim       2.9    NaN\n",
       "enam    2003    Jatim       3.2    NaN"
      ]
     },
     "execution_count": 31,
     "metadata": {},
     "output_type": "execute_result"
    }
   ],
   "source": [
    "frame2"
   ]
  },
  {
   "cell_type": "code",
   "execution_count": 32,
   "id": "ed1a1b7e",
   "metadata": {},
   "outputs": [
    {
     "data": {
      "text/plain": [
       "Index(['tahun', 'propinsi', 'populasi', 'hutang'], dtype='object')"
      ]
     },
     "execution_count": 32,
     "metadata": {},
     "output_type": "execute_result"
    }
   ],
   "source": [
    "frame2.columns"
   ]
  },
  {
   "cell_type": "code",
   "execution_count": 33,
   "id": "85a4ebe5",
   "metadata": {},
   "outputs": [
    {
     "data": {
      "text/plain": [
       "satu     Jabar\n",
       "dua      Jabar\n",
       "tiga     Jabar\n",
       "empat    Jatim\n",
       "lima     Jatim\n",
       "enam     Jatim\n",
       "Name: propinsi, dtype: object"
      ]
     },
     "execution_count": 33,
     "metadata": {},
     "output_type": "execute_result"
    }
   ],
   "source": [
    "frame2['propinsi']"
   ]
  },
  {
   "cell_type": "code",
   "execution_count": 34,
   "id": "792ecfe3",
   "metadata": {},
   "outputs": [
    {
     "data": {
      "text/plain": [
       "satu     2000\n",
       "dua      2001\n",
       "tiga     2002\n",
       "empat    2001\n",
       "lima     2002\n",
       "enam     2003\n",
       "Name: tahun, dtype: int64"
      ]
     },
     "execution_count": 34,
     "metadata": {},
     "output_type": "execute_result"
    }
   ],
   "source": [
    "frame2.tahun"
   ]
  },
  {
   "cell_type": "code",
   "execution_count": 35,
   "id": "555e8e63",
   "metadata": {},
   "outputs": [
    {
     "data": {
      "text/plain": [
       "satu     1.5\n",
       "dua      1.7\n",
       "tiga     3.6\n",
       "empat    2.4\n",
       "lima     2.9\n",
       "enam     3.2\n",
       "Name: populasi, dtype: float64"
      ]
     },
     "execution_count": 35,
     "metadata": {},
     "output_type": "execute_result"
    }
   ],
   "source": [
    "frame2.populasi"
   ]
  },
  {
   "cell_type": "code",
   "execution_count": 36,
   "id": "ce1f920b",
   "metadata": {},
   "outputs": [
    {
     "data": {
      "text/plain": [
       "tahun        2002\n",
       "propinsi    Jabar\n",
       "populasi      3.6\n",
       "hutang        NaN\n",
       "Name: tiga, dtype: object"
      ]
     },
     "execution_count": 36,
     "metadata": {},
     "output_type": "execute_result"
    }
   ],
   "source": [
    "# loc\n",
    "frame2.loc['tiga']"
   ]
  },
  {
   "cell_type": "code",
   "execution_count": 37,
   "id": "751edae6",
   "metadata": {},
   "outputs": [
    {
     "data": {
      "text/html": [
       "<div>\n",
       "<style scoped>\n",
       "    .dataframe tbody tr th:only-of-type {\n",
       "        vertical-align: middle;\n",
       "    }\n",
       "\n",
       "    .dataframe tbody tr th {\n",
       "        vertical-align: top;\n",
       "    }\n",
       "\n",
       "    .dataframe thead th {\n",
       "        text-align: right;\n",
       "    }\n",
       "</style>\n",
       "<table border=\"1\" class=\"dataframe\">\n",
       "  <thead>\n",
       "    <tr style=\"text-align: right;\">\n",
       "      <th></th>\n",
       "      <th>tahun</th>\n",
       "      <th>propinsi</th>\n",
       "      <th>populasi</th>\n",
       "      <th>hutang</th>\n",
       "    </tr>\n",
       "  </thead>\n",
       "  <tbody>\n",
       "    <tr>\n",
       "      <th>satu</th>\n",
       "      <td>2000</td>\n",
       "      <td>Jabar</td>\n",
       "      <td>1.5</td>\n",
       "      <td>NaN</td>\n",
       "    </tr>\n",
       "    <tr>\n",
       "      <th>dua</th>\n",
       "      <td>2001</td>\n",
       "      <td>Jabar</td>\n",
       "      <td>1.7</td>\n",
       "      <td>NaN</td>\n",
       "    </tr>\n",
       "    <tr>\n",
       "      <th>tiga</th>\n",
       "      <td>2002</td>\n",
       "      <td>Jabar</td>\n",
       "      <td>3.6</td>\n",
       "      <td>NaN</td>\n",
       "    </tr>\n",
       "    <tr>\n",
       "      <th>empat</th>\n",
       "      <td>2001</td>\n",
       "      <td>Jatim</td>\n",
       "      <td>2.4</td>\n",
       "      <td>NaN</td>\n",
       "    </tr>\n",
       "    <tr>\n",
       "      <th>lima</th>\n",
       "      <td>2002</td>\n",
       "      <td>Jatim</td>\n",
       "      <td>2.9</td>\n",
       "      <td>NaN</td>\n",
       "    </tr>\n",
       "    <tr>\n",
       "      <th>enam</th>\n",
       "      <td>2003</td>\n",
       "      <td>Jatim</td>\n",
       "      <td>3.2</td>\n",
       "      <td>NaN</td>\n",
       "    </tr>\n",
       "  </tbody>\n",
       "</table>\n",
       "</div>"
      ],
      "text/plain": [
       "       tahun propinsi  populasi hutang\n",
       "satu    2000    Jabar       1.5    NaN\n",
       "dua     2001    Jabar       1.7    NaN\n",
       "tiga    2002    Jabar       3.6    NaN\n",
       "empat   2001    Jatim       2.4    NaN\n",
       "lima    2002    Jatim       2.9    NaN\n",
       "enam    2003    Jatim       3.2    NaN"
      ]
     },
     "execution_count": 37,
     "metadata": {},
     "output_type": "execute_result"
    }
   ],
   "source": [
    "# modified column by scalar\n",
    "frame2"
   ]
  },
  {
   "cell_type": "code",
   "execution_count": 38,
   "id": "c99c43ff",
   "metadata": {},
   "outputs": [
    {
     "data": {
      "text/html": [
       "<div>\n",
       "<style scoped>\n",
       "    .dataframe tbody tr th:only-of-type {\n",
       "        vertical-align: middle;\n",
       "    }\n",
       "\n",
       "    .dataframe tbody tr th {\n",
       "        vertical-align: top;\n",
       "    }\n",
       "\n",
       "    .dataframe thead th {\n",
       "        text-align: right;\n",
       "    }\n",
       "</style>\n",
       "<table border=\"1\" class=\"dataframe\">\n",
       "  <thead>\n",
       "    <tr style=\"text-align: right;\">\n",
       "      <th></th>\n",
       "      <th>tahun</th>\n",
       "      <th>propinsi</th>\n",
       "      <th>populasi</th>\n",
       "      <th>hutang</th>\n",
       "    </tr>\n",
       "  </thead>\n",
       "  <tbody>\n",
       "    <tr>\n",
       "      <th>satu</th>\n",
       "      <td>2000</td>\n",
       "      <td>Jabar</td>\n",
       "      <td>1.5</td>\n",
       "      <td>12.9</td>\n",
       "    </tr>\n",
       "    <tr>\n",
       "      <th>dua</th>\n",
       "      <td>2001</td>\n",
       "      <td>Jabar</td>\n",
       "      <td>1.7</td>\n",
       "      <td>12.9</td>\n",
       "    </tr>\n",
       "    <tr>\n",
       "      <th>tiga</th>\n",
       "      <td>2002</td>\n",
       "      <td>Jabar</td>\n",
       "      <td>3.6</td>\n",
       "      <td>12.9</td>\n",
       "    </tr>\n",
       "    <tr>\n",
       "      <th>empat</th>\n",
       "      <td>2001</td>\n",
       "      <td>Jatim</td>\n",
       "      <td>2.4</td>\n",
       "      <td>12.9</td>\n",
       "    </tr>\n",
       "    <tr>\n",
       "      <th>lima</th>\n",
       "      <td>2002</td>\n",
       "      <td>Jatim</td>\n",
       "      <td>2.9</td>\n",
       "      <td>12.9</td>\n",
       "    </tr>\n",
       "    <tr>\n",
       "      <th>enam</th>\n",
       "      <td>2003</td>\n",
       "      <td>Jatim</td>\n",
       "      <td>3.2</td>\n",
       "      <td>12.9</td>\n",
       "    </tr>\n",
       "  </tbody>\n",
       "</table>\n",
       "</div>"
      ],
      "text/plain": [
       "       tahun propinsi  populasi  hutang\n",
       "satu    2000    Jabar       1.5    12.9\n",
       "dua     2001    Jabar       1.7    12.9\n",
       "tiga    2002    Jabar       3.6    12.9\n",
       "empat   2001    Jatim       2.4    12.9\n",
       "lima    2002    Jatim       2.9    12.9\n",
       "enam    2003    Jatim       3.2    12.9"
      ]
     },
     "execution_count": 38,
     "metadata": {},
     "output_type": "execute_result"
    }
   ],
   "source": [
    "frame2['hutang'] = 12.9\n",
    "frame2"
   ]
  },
  {
   "cell_type": "code",
   "execution_count": 41,
   "id": "b3878650",
   "metadata": {},
   "outputs": [
    {
     "data": {
      "text/html": [
       "<div>\n",
       "<style scoped>\n",
       "    .dataframe tbody tr th:only-of-type {\n",
       "        vertical-align: middle;\n",
       "    }\n",
       "\n",
       "    .dataframe tbody tr th {\n",
       "        vertical-align: top;\n",
       "    }\n",
       "\n",
       "    .dataframe thead th {\n",
       "        text-align: right;\n",
       "    }\n",
       "</style>\n",
       "<table border=\"1\" class=\"dataframe\">\n",
       "  <thead>\n",
       "    <tr style=\"text-align: right;\">\n",
       "      <th></th>\n",
       "      <th>tahun</th>\n",
       "      <th>propinsi</th>\n",
       "      <th>populasi</th>\n",
       "      <th>hutang</th>\n",
       "    </tr>\n",
       "  </thead>\n",
       "  <tbody>\n",
       "    <tr>\n",
       "      <th>satu</th>\n",
       "      <td>2000</td>\n",
       "      <td>Jabar</td>\n",
       "      <td>1.5</td>\n",
       "      <td>0.0</td>\n",
       "    </tr>\n",
       "    <tr>\n",
       "      <th>dua</th>\n",
       "      <td>2001</td>\n",
       "      <td>Jabar</td>\n",
       "      <td>1.7</td>\n",
       "      <td>1.0</td>\n",
       "    </tr>\n",
       "    <tr>\n",
       "      <th>tiga</th>\n",
       "      <td>2002</td>\n",
       "      <td>Jabar</td>\n",
       "      <td>3.6</td>\n",
       "      <td>2.0</td>\n",
       "    </tr>\n",
       "    <tr>\n",
       "      <th>empat</th>\n",
       "      <td>2001</td>\n",
       "      <td>Jatim</td>\n",
       "      <td>2.4</td>\n",
       "      <td>3.0</td>\n",
       "    </tr>\n",
       "    <tr>\n",
       "      <th>lima</th>\n",
       "      <td>2002</td>\n",
       "      <td>Jatim</td>\n",
       "      <td>2.9</td>\n",
       "      <td>4.0</td>\n",
       "    </tr>\n",
       "    <tr>\n",
       "      <th>enam</th>\n",
       "      <td>2003</td>\n",
       "      <td>Jatim</td>\n",
       "      <td>3.2</td>\n",
       "      <td>5.0</td>\n",
       "    </tr>\n",
       "  </tbody>\n",
       "</table>\n",
       "</div>"
      ],
      "text/plain": [
       "       tahun propinsi  populasi  hutang\n",
       "satu    2000    Jabar       1.5     0.0\n",
       "dua     2001    Jabar       1.7     1.0\n",
       "tiga    2002    Jabar       3.6     2.0\n",
       "empat   2001    Jatim       2.4     3.0\n",
       "lima    2002    Jatim       2.9     4.0\n",
       "enam    2003    Jatim       3.2     5.0"
      ]
     },
     "execution_count": 41,
     "metadata": {},
     "output_type": "execute_result"
    }
   ],
   "source": [
    "# or modified by array\n",
    "frame2['hutang'] = np.arange(6.)\n",
    "frame2"
   ]
  },
  {
   "cell_type": "code",
   "execution_count": 42,
   "id": "6835d63d",
   "metadata": {},
   "outputs": [],
   "source": [
    "# try assigning list/array that not match the df length\n",
    "val = pd.Series([-1.3,-2.8,-1.7], index=['dua','tiga','lima'])"
   ]
  },
  {
   "cell_type": "code",
   "execution_count": 43,
   "id": "e6c5f589",
   "metadata": {},
   "outputs": [],
   "source": [
    "frame2['hutang'] = val"
   ]
  },
  {
   "cell_type": "code",
   "execution_count": 44,
   "id": "07c74b42",
   "metadata": {},
   "outputs": [
    {
     "data": {
      "text/html": [
       "<div>\n",
       "<style scoped>\n",
       "    .dataframe tbody tr th:only-of-type {\n",
       "        vertical-align: middle;\n",
       "    }\n",
       "\n",
       "    .dataframe tbody tr th {\n",
       "        vertical-align: top;\n",
       "    }\n",
       "\n",
       "    .dataframe thead th {\n",
       "        text-align: right;\n",
       "    }\n",
       "</style>\n",
       "<table border=\"1\" class=\"dataframe\">\n",
       "  <thead>\n",
       "    <tr style=\"text-align: right;\">\n",
       "      <th></th>\n",
       "      <th>tahun</th>\n",
       "      <th>propinsi</th>\n",
       "      <th>populasi</th>\n",
       "      <th>hutang</th>\n",
       "    </tr>\n",
       "  </thead>\n",
       "  <tbody>\n",
       "    <tr>\n",
       "      <th>satu</th>\n",
       "      <td>2000</td>\n",
       "      <td>Jabar</td>\n",
       "      <td>1.5</td>\n",
       "      <td>NaN</td>\n",
       "    </tr>\n",
       "    <tr>\n",
       "      <th>dua</th>\n",
       "      <td>2001</td>\n",
       "      <td>Jabar</td>\n",
       "      <td>1.7</td>\n",
       "      <td>-1.3</td>\n",
       "    </tr>\n",
       "    <tr>\n",
       "      <th>tiga</th>\n",
       "      <td>2002</td>\n",
       "      <td>Jabar</td>\n",
       "      <td>3.6</td>\n",
       "      <td>-2.8</td>\n",
       "    </tr>\n",
       "    <tr>\n",
       "      <th>empat</th>\n",
       "      <td>2001</td>\n",
       "      <td>Jatim</td>\n",
       "      <td>2.4</td>\n",
       "      <td>NaN</td>\n",
       "    </tr>\n",
       "    <tr>\n",
       "      <th>lima</th>\n",
       "      <td>2002</td>\n",
       "      <td>Jatim</td>\n",
       "      <td>2.9</td>\n",
       "      <td>-1.7</td>\n",
       "    </tr>\n",
       "    <tr>\n",
       "      <th>enam</th>\n",
       "      <td>2003</td>\n",
       "      <td>Jatim</td>\n",
       "      <td>3.2</td>\n",
       "      <td>NaN</td>\n",
       "    </tr>\n",
       "  </tbody>\n",
       "</table>\n",
       "</div>"
      ],
      "text/plain": [
       "       tahun propinsi  populasi  hutang\n",
       "satu    2000    Jabar       1.5     NaN\n",
       "dua     2001    Jabar       1.7    -1.3\n",
       "tiga    2002    Jabar       3.6    -2.8\n",
       "empat   2001    Jatim       2.4     NaN\n",
       "lima    2002    Jatim       2.9    -1.7\n",
       "enam    2003    Jatim       3.2     NaN"
      ]
     },
     "execution_count": 44,
     "metadata": {},
     "output_type": "execute_result"
    }
   ],
   "source": [
    "frame2"
   ]
  },
  {
   "cell_type": "code",
   "execution_count": 48,
   "id": "352b01ca",
   "metadata": {},
   "outputs": [],
   "source": [
    "# example delete column\n",
    "frame2['barat'] = frame2['propinsi'] == 'Jabar'"
   ]
  },
  {
   "cell_type": "code",
   "execution_count": 49,
   "id": "2bf277a6",
   "metadata": {},
   "outputs": [
    {
     "data": {
      "text/html": [
       "<div>\n",
       "<style scoped>\n",
       "    .dataframe tbody tr th:only-of-type {\n",
       "        vertical-align: middle;\n",
       "    }\n",
       "\n",
       "    .dataframe tbody tr th {\n",
       "        vertical-align: top;\n",
       "    }\n",
       "\n",
       "    .dataframe thead th {\n",
       "        text-align: right;\n",
       "    }\n",
       "</style>\n",
       "<table border=\"1\" class=\"dataframe\">\n",
       "  <thead>\n",
       "    <tr style=\"text-align: right;\">\n",
       "      <th></th>\n",
       "      <th>tahun</th>\n",
       "      <th>propinsi</th>\n",
       "      <th>populasi</th>\n",
       "      <th>hutang</th>\n",
       "      <th>barat</th>\n",
       "    </tr>\n",
       "  </thead>\n",
       "  <tbody>\n",
       "    <tr>\n",
       "      <th>satu</th>\n",
       "      <td>2000</td>\n",
       "      <td>Jabar</td>\n",
       "      <td>1.5</td>\n",
       "      <td>NaN</td>\n",
       "      <td>True</td>\n",
       "    </tr>\n",
       "    <tr>\n",
       "      <th>dua</th>\n",
       "      <td>2001</td>\n",
       "      <td>Jabar</td>\n",
       "      <td>1.7</td>\n",
       "      <td>-1.3</td>\n",
       "      <td>True</td>\n",
       "    </tr>\n",
       "    <tr>\n",
       "      <th>tiga</th>\n",
       "      <td>2002</td>\n",
       "      <td>Jabar</td>\n",
       "      <td>3.6</td>\n",
       "      <td>-2.8</td>\n",
       "      <td>True</td>\n",
       "    </tr>\n",
       "    <tr>\n",
       "      <th>empat</th>\n",
       "      <td>2001</td>\n",
       "      <td>Jatim</td>\n",
       "      <td>2.4</td>\n",
       "      <td>NaN</td>\n",
       "      <td>False</td>\n",
       "    </tr>\n",
       "    <tr>\n",
       "      <th>lima</th>\n",
       "      <td>2002</td>\n",
       "      <td>Jatim</td>\n",
       "      <td>2.9</td>\n",
       "      <td>-1.7</td>\n",
       "      <td>False</td>\n",
       "    </tr>\n",
       "    <tr>\n",
       "      <th>enam</th>\n",
       "      <td>2003</td>\n",
       "      <td>Jatim</td>\n",
       "      <td>3.2</td>\n",
       "      <td>NaN</td>\n",
       "      <td>False</td>\n",
       "    </tr>\n",
       "  </tbody>\n",
       "</table>\n",
       "</div>"
      ],
      "text/plain": [
       "       tahun propinsi  populasi  hutang  barat\n",
       "satu    2000    Jabar       1.5     NaN   True\n",
       "dua     2001    Jabar       1.7    -1.3   True\n",
       "tiga    2002    Jabar       3.6    -2.8   True\n",
       "empat   2001    Jatim       2.4     NaN  False\n",
       "lima    2002    Jatim       2.9    -1.7  False\n",
       "enam    2003    Jatim       3.2     NaN  False"
      ]
     },
     "execution_count": 49,
     "metadata": {},
     "output_type": "execute_result"
    }
   ],
   "source": [
    "frame2"
   ]
  },
  {
   "cell_type": "code",
   "execution_count": 50,
   "id": "c55d4be2",
   "metadata": {},
   "outputs": [
    {
     "data": {
      "text/html": [
       "<div>\n",
       "<style scoped>\n",
       "    .dataframe tbody tr th:only-of-type {\n",
       "        vertical-align: middle;\n",
       "    }\n",
       "\n",
       "    .dataframe tbody tr th {\n",
       "        vertical-align: top;\n",
       "    }\n",
       "\n",
       "    .dataframe thead th {\n",
       "        text-align: right;\n",
       "    }\n",
       "</style>\n",
       "<table border=\"1\" class=\"dataframe\">\n",
       "  <thead>\n",
       "    <tr style=\"text-align: right;\">\n",
       "      <th></th>\n",
       "      <th>tahun</th>\n",
       "      <th>propinsi</th>\n",
       "      <th>populasi</th>\n",
       "      <th>hutang</th>\n",
       "    </tr>\n",
       "  </thead>\n",
       "  <tbody>\n",
       "    <tr>\n",
       "      <th>satu</th>\n",
       "      <td>2000</td>\n",
       "      <td>Jabar</td>\n",
       "      <td>1.5</td>\n",
       "      <td>NaN</td>\n",
       "    </tr>\n",
       "    <tr>\n",
       "      <th>dua</th>\n",
       "      <td>2001</td>\n",
       "      <td>Jabar</td>\n",
       "      <td>1.7</td>\n",
       "      <td>-1.3</td>\n",
       "    </tr>\n",
       "    <tr>\n",
       "      <th>tiga</th>\n",
       "      <td>2002</td>\n",
       "      <td>Jabar</td>\n",
       "      <td>3.6</td>\n",
       "      <td>-2.8</td>\n",
       "    </tr>\n",
       "    <tr>\n",
       "      <th>empat</th>\n",
       "      <td>2001</td>\n",
       "      <td>Jatim</td>\n",
       "      <td>2.4</td>\n",
       "      <td>NaN</td>\n",
       "    </tr>\n",
       "    <tr>\n",
       "      <th>lima</th>\n",
       "      <td>2002</td>\n",
       "      <td>Jatim</td>\n",
       "      <td>2.9</td>\n",
       "      <td>-1.7</td>\n",
       "    </tr>\n",
       "    <tr>\n",
       "      <th>enam</th>\n",
       "      <td>2003</td>\n",
       "      <td>Jatim</td>\n",
       "      <td>3.2</td>\n",
       "      <td>NaN</td>\n",
       "    </tr>\n",
       "  </tbody>\n",
       "</table>\n",
       "</div>"
      ],
      "text/plain": [
       "       tahun propinsi  populasi  hutang\n",
       "satu    2000    Jabar       1.5     NaN\n",
       "dua     2001    Jabar       1.7    -1.3\n",
       "tiga    2002    Jabar       3.6    -2.8\n",
       "empat   2001    Jatim       2.4     NaN\n",
       "lima    2002    Jatim       2.9    -1.7\n",
       "enam    2003    Jatim       3.2     NaN"
      ]
     },
     "execution_count": 50,
     "metadata": {},
     "output_type": "execute_result"
    }
   ],
   "source": [
    "del frame2['barat']\n",
    "frame2"
   ]
  },
  {
   "cell_type": "code",
   "execution_count": null,
   "id": "bf47e602",
   "metadata": {},
   "outputs": [],
   "source": []
  }
 ],
 "metadata": {
  "kernelspec": {
   "display_name": "Python 3 (ipykernel)",
   "language": "python",
   "name": "python3"
  },
  "language_info": {
   "codemirror_mode": {
    "name": "ipython",
    "version": 3
   },
   "file_extension": ".py",
   "mimetype": "text/x-python",
   "name": "python",
   "nbconvert_exporter": "python",
   "pygments_lexer": "ipython3",
   "version": "3.9.13"
  }
 },
 "nbformat": 4,
 "nbformat_minor": 5
}
